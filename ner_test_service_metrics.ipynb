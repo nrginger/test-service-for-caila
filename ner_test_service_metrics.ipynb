{
  "nbformat": 4,
  "nbformat_minor": 0,
  "metadata": {
    "colab": {
      "provenance": []
    },
    "kernelspec": {
      "name": "python3",
      "display_name": "Python 3"
    },
    "language_info": {
      "name": "python"
    }
  },
  "cells": [
    {
      "cell_type": "code",
      "execution_count": 27,
      "metadata": {
        "id": "OsvT8RShwqn_"
      },
      "outputs": [],
      "source": [
        "!pip install flair datasets seqeval matplotlib seaborn --quiet"
      ]
    },
    {
      "cell_type": "code",
      "source": [
        "import flair\n",
        "from flair.data import Sentence\n",
        "from flair.models import SequenceTagger\n",
        "from datasets import load_dataset\n",
        "from seqeval.metrics import classification_report, precision_score, recall_score, f1_score\n",
        "import matplotlib.pyplot as plt\n",
        "import seaborn as sns\n",
        "import pandas as pd\n"
      ],
      "metadata": {
        "id": "GzzrEt8QwvPg"
      },
      "execution_count": 28,
      "outputs": []
    },
    {
      "cell_type": "code",
      "source": [
        "# Load the CoNLL-2003 dataset\n",
        "dataset = load_dataset(\"conll2003\")\n",
        "\n",
        "test_dataset = dataset['test']\n",
        "\n",
        "test_dataset = test_dataset.select(range(200))\n",
        "\n",
        "label_list = dataset['train'].features['ner_tags'].feature.names\n",
        "\n",
        "def map_labels(example):\n",
        "    example['labels'] = [label_list[idx] for idx in example['ner_tags']]\n",
        "    return example\n",
        "\n",
        "test_dataset = test_dataset.map(map_labels)"
      ],
      "metadata": {
        "id": "Nks84X6-w6Ch"
      },
      "execution_count": 29,
      "outputs": []
    },
    {
      "cell_type": "code",
      "source": [
        "# Load the Flair NER model\n",
        "tagger = SequenceTagger.load(\"flair/ner-english-fast\")"
      ],
      "metadata": {
        "colab": {
          "base_uri": "https://localhost:8080/"
        },
        "id": "mDqyq9tRxLXp",
        "outputId": "8f0b288c-6bc5-4681-e1a2-4f8ba126f577"
      },
      "execution_count": 30,
      "outputs": [
        {
          "output_type": "stream",
          "name": "stdout",
          "text": [
            "2024-10-21 09:46:21,763 SequenceTagger predicts: Dictionary with 20 tags: <unk>, O, S-ORG, S-MISC, B-PER, E-PER, S-LOC, B-ORG, E-ORG, I-PER, S-PER, B-MISC, I-MISC, E-MISC, I-ORG, B-LOC, E-LOC, I-LOC, <START>, <STOP>\n"
          ]
        }
      ]
    },
    {
      "cell_type": "markdown",
      "source": [
        "Since Flair will tokenize the raw text internally, the tokens in sentence may not align perfectly with the original tokens. For evaluation, we'll extract entities (spans) from both the predictions and the ground truth and compare them at the entity level.\n",
        "\n",
        "**Function to extract entities from ground truth labels:**"
      ],
      "metadata": {
        "id": "_928yQs1e6_C"
      }
    },
    {
      "cell_type": "code",
      "source": [
        "def get_entities(tokens, labels):\n",
        "    entities = []\n",
        "    entity_tokens = []\n",
        "    entity_label = None\n",
        "    for token, label in zip(tokens, labels):\n",
        "        if label == 'O':\n",
        "            if entity_tokens:\n",
        "                entities.append((' '.join(entity_tokens), entity_label))\n",
        "                entity_tokens = []\n",
        "                entity_label = None\n",
        "        else:\n",
        "            label_type, label_class = label.split('-', maxsplit=1)\n",
        "            if label_type == 'B':\n",
        "                if entity_tokens:\n",
        "                    entities.append((' '.join(entity_tokens), entity_label))\n",
        "                entity_tokens = [token]\n",
        "                entity_label = label_class\n",
        "            elif label_type == 'I':\n",
        "                if entity_tokens and entity_label == label_class:\n",
        "                    entity_tokens.append(token)\n",
        "                else:\n",
        "                    if entity_tokens:\n",
        "                        entities.append((' '.join(entity_tokens), entity_label))\n",
        "                    entity_tokens = [token]\n",
        "                    entity_label = label_class\n",
        "    if entity_tokens:\n",
        "        entities.append((' '.join(entity_tokens), entity_label))\n",
        "    return entities\n",
        "\n",
        "all_true_entities = []\n",
        "all_predicted_entities = []\n",
        "\n",
        "for idx, example in enumerate(test_dataset):\n",
        "    tokens = example['tokens']\n",
        "    labels = example['labels']\n",
        "    text = ' '.join(tokens)\n",
        "    # Build the sentence for Flair\n",
        "    sentence = Sentence(text)\n",
        "    # Run NER tagger\n",
        "    tagger.predict(sentence)\n",
        "    # Get predicted entities\n",
        "    predicted_entities = []\n",
        "    for entity in sentence.get_spans('ner'):\n",
        "        entity_text = entity.text\n",
        "        entity_label = entity.get_label('ner').value\n",
        "        predicted_entities.append((entity_text, entity_label))\n",
        "    # Get ground truth entities\n",
        "    true_entities = get_entities(tokens, labels)\n",
        "    all_true_entities.append(true_entities)\n",
        "    all_predicted_entities.append(predicted_entities)"
      ],
      "metadata": {
        "id": "mpYkVIqU6A_K"
      },
      "execution_count": 23,
      "outputs": []
    },
    {
      "cell_type": "code",
      "source": [
        "from sklearn.metrics import confusion_matrix\n",
        "import numpy as np"
      ],
      "metadata": {
        "id": "WncWy7OOF3zo"
      },
      "execution_count": 24,
      "outputs": []
    },
    {
      "cell_type": "code",
      "source": [
        "def get_binary_labels(entities, target_label='PER'):\n",
        "    return [1 if any(label == target_label for _, label in entity_list) else 0 for entity_list in entities]\n",
        "\n",
        "# Преобразуем сущности в бинарные метки (PER vs. не-PER)\n",
        "y_true = get_binary_labels(all_true_entities)\n",
        "y_pred = get_binary_labels(all_predicted_entities)\n",
        "\n",
        "# Создаем матрицу ошибок\n",
        "cm = confusion_matrix(y_true, y_pred)\n",
        "\n",
        "# Нормализуем матрицу\n",
        "cm_normalized = cm.astype('float') / cm.sum(axis=1)[:, np.newaxis]\n",
        "\n",
        "# Определяем метки для осей\n",
        "labels = ['Not PER', 'PER']\n",
        "\n",
        "# Строим тепловую карту\n",
        "plt.figure(figsize=(8, 6))\n",
        "sns.heatmap(cm_normalized, annot=True, fmt='.2f', cmap='Blues',\n",
        "            xticklabels=labels, yticklabels=labels)\n",
        "plt.title('Normalized Confusion Matrix for PER')\n",
        "plt.xlabel('Predicted')\n",
        "plt.ylabel('True')\n",
        "plt.tight_layout()\n",
        "plt.show()\n",
        "\n",
        "# Выводим метрики\n",
        "tn, fp, fn, tp = cm.ravel()\n",
        "precision = tp / (tp + fp)\n",
        "recall = tp / (tp + fn)\n",
        "f1_score = 2 * (precision * recall) / (precision + recall)\n",
        "\n",
        "print(f\"Precision for PER: {precision:.2f}\")\n",
        "print(f\"Recall for PER: {recall:.2f}\")\n",
        "print(f\"F1-score for PER: {f1_score:.2f}\")\n",
        "\n",
        "# Анализ ошибок\n",
        "false_positives = sum(1 for true, pred in zip(y_true, y_pred) if true == 0 and pred == 1)\n",
        "false_negatives = sum(1 for true, pred in zip(y_true, y_pred) if true == 1 and pred == 0)\n",
        "\n",
        "print(f\"\\nNumber of false positives (incorrectly labeled as PER): {false_positives}\")\n",
        "print(f\"Number of false negatives (PER missed by the model): {false_negatives}\")\n",
        "\n",
        "# Примеры ошибок\n",
        "print(\"\\nExamples of errors:\")\n",
        "for true_entities, pred_entities, true_label, pred_label in zip(all_true_entities, all_predicted_entities, y_true, y_pred):\n",
        "    if true_label != pred_label:\n",
        "        print(\"True entities:\", true_entities)\n",
        "        print(\"Predicted entities:\", pred_entities)\n",
        "        print(\"---\")\n",
        "\n",
        "\n"
      ],
      "metadata": {
        "colab": {
          "base_uri": "https://localhost:8080/",
          "height": 850
        },
        "id": "v5ZE4Qq7JSUf",
        "outputId": "8a27d03c-f6b2-4c3a-c070-155f5a5c2f26"
      },
      "execution_count": 25,
      "outputs": [
        {
          "output_type": "display_data",
          "data": {
            "text/plain": [
              "<Figure size 800x600 with 2 Axes>"
            ],
            "image/png": "[encoded data removed]"
          },
          "metadata": {}
        },
        {
          "output_type": "stream",
          "name": "stdout",
          "text": [
            "Precision for PER: 0.99\n",
            "Recall for PER: 0.99\n",
            "F1-score for PER: 0.99\n",
            "\n",
            "Number of false positives (incorrectly labeled as PER): 1\n",
            "Number of false negatives (PER missed by the model): 1\n",
            "\n",
            "Examples of errors:\n",
            "True entities: [('JAPAN', 'LOC'), ('CHINA', 'PER')]\n",
            "Predicted entities: [('JAPAN', 'LOC'), ('CHINA', 'LOC')]\n",
            "---\n",
            "True entities: [('Pau-Orthez', 'ORG'), ('France', 'LOC')]\n",
            "Predicted entities: [('Pau-Orthez', 'PER'), ('France', 'LOC')]\n",
            "---\n"
          ]
        }
      ]
    },
    {
      "cell_type": "code",
      "source": [
        "# Plotting\n",
        "metrics = {'Metric': ['Precision', 'Recall', 'F1 Score'],\n",
        "           'Score': [precision, recall, f1]}\n",
        "\n",
        "df = pd.DataFrame(metrics)\n",
        "\n",
        "plt.figure(figsize=(8, 6))\n",
        "sns.barplot(x='Metric', y='Score', data=df)\n",
        "plt.title('NER Evaluation Metrics')\n",
        "plt.ylim(0, 1)\n",
        "for index, row in df.iterrows():\n",
        "    plt.text(index, row.Score + 0.01, f\"{row.Score:.2f}\", color='black', ha=\"center\")\n",
        "plt.show()"
      ],
      "metadata": {
        "colab": {
          "base_uri": "https://localhost:8080/",
          "height": 564
        },
        "id": "_yoysHvoN_Hu",
        "outputId": "08bd2f69-b3e5-41ac-c335-9922409e5068"
      },
      "execution_count": 26,
      "outputs": [
        {
          "output_type": "display_data",
          "data": {
            "text/plain": [
              "<Figure size 800x600 with 1 Axes>"
            ],
            "image/png": "[encoded data removed]"
          },
          "metadata": {}
        }
      ]
    }
  ]
}